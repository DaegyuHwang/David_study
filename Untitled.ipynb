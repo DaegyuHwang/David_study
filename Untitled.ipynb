{
  "nbformat": 4,
  "nbformat_minor": 0,
  "metadata": {
    "colab": {
      "provenance": [],
      "authorship_tag": "ABX9TyNH72rOLr0kZIypA+Gj9Rl+",
      "include_colab_link": true
    },
    "kernelspec": {
      "name": "python3",
      "display_name": "Python 3"
    },
    "language_info": {
      "name": "python"
    }
  },
  "cells": [
    {
      "cell_type": "markdown",
      "metadata": {
        "id": "view-in-github",
        "colab_type": "text"
      },
      "source": [
        "<a href=\"https://colab.research.google.com/github/DaegyuHwang/David_study/blob/main/Untitled.ipynb\" target=\"_parent\"><img src=\"https://colab.research.google.com/assets/colab-badge.svg\" alt=\"Open In Colab\"/></a>"
      ]
    },
    {
      "cell_type": "code",
      "source": [
        "## 문제 1\n",
        "a=int(input())\n",
        "b=int(input())\n",
        "c=int(input())\n",
        "d=int(input())\n",
        "e=int(input())\n",
        "\n",
        "num = [a,b,c,d,e]\n",
        "num.sort()\n",
        "\n",
        "# max에 입력받은 정수 중 가장 큰 값 대입\n",
        "# max2에 입력받은 정수 중 가장 작은 값 대입\n",
        "# 중복된 숫자 있을 경우를 고려하였다.\n",
        "\n",
        "max = num[-1];max2=num[0]\n",
        "for i in num:\n",
        "  if max == i:continue\n",
        "  elif max2 <= i:\n",
        "    max2 = i\n",
        "print('두번째로 큰 숫자는 =',max2)\n",
        "\n"
      ],
      "metadata": {
        "colab": {
          "base_uri": "https://localhost:8080/"
        },
        "id": "Y44s6-TRj9IY",
        "outputId": "d6ac60ac-8f3f-48be-f4eb-e290c948961a"
      },
      "execution_count": null,
      "outputs": [
        {
          "output_type": "stream",
          "name": "stdout",
          "text": [
            "3\n",
            "10\n",
            "30\n",
            "60\n",
            "60\n",
            "두번째로 큰 숫자는 = 30\n"
          ]
        }
      ]
    },
    {
      "cell_type": "code",
      "source": [
        "## 문제 2\n",
        "def big(a,b):\n",
        "  if a>b:\n",
        "    return a\n",
        "  else:\n",
        "    return b\n",
        "\n",
        "# 숫자의 갯수만큼 별표를 찍어야 하기에, 변수를 정수로 설정했습니다.\n",
        "a= int(input())\n",
        "b= int(input())\n",
        "\n",
        "c=big(a,b)\n",
        "\n",
        "if 1<=c<=10:\n",
        "  print('*'*c)\n",
        "else:\n",
        "  print('1이상 10이하의 숫자를 입력해 주세요')\n"
      ],
      "metadata": {
        "colab": {
          "base_uri": "https://localhost:8080/"
        },
        "id": "TSq7PnhCqdy0",
        "outputId": "6230f8e7-2e80-42fc-f0af-576502578d7c"
      },
      "execution_count": null,
      "outputs": [
        {
          "output_type": "stream",
          "name": "stdout",
          "text": [
            "4\n",
            "8\n",
            "********\n"
          ]
        }
      ]
    },
    {
      "cell_type": "code",
      "source": [],
      "metadata": {
        "id": "HA3bpYgaupwM"
      },
      "execution_count": null,
      "outputs": []
    },
    {
      "cell_type": "code",
      "source": [
        "a= [92, 110, 115, 103, 98]\n",
        "avg = 0;sum=0; s2=0\n",
        "\n",
        "import math\n",
        "\n",
        "for i in a:\n",
        "  sum+=i\n",
        "avg = sum/5\n",
        "for i in a:\n",
        "  s2+= (avg-i)**2\n",
        "\n",
        "print(avg, s2/4, math.sqrt(s2/4))\n",
        "\n"
      ],
      "metadata": {
        "colab": {
          "base_uri": "https://localhost:8080/"
        },
        "id": "b2SVJh_Kupz0",
        "outputId": "34412a45-5064-4121-a442-0b570396eb7e"
      },
      "execution_count": null,
      "outputs": [
        {
          "output_type": "stream",
          "name": "stdout",
          "text": [
            "103.6 84.3 9.181503144910424\n"
          ]
        }
      ]
    },
    {
      "cell_type": "code",
      "source": [],
      "metadata": {
        "id": "iY9XSnldvNhc"
      },
      "execution_count": null,
      "outputs": []
    },
    {
      "cell_type": "code",
      "source": [],
      "metadata": {
        "id": "UYVZZtK5vNk8"
      },
      "execution_count": null,
      "outputs": []
    },
    {
      "cell_type": "code",
      "source": [
        "a=['태준',]"
      ],
      "metadata": {
        "id": "eFEAxOOqvNw9"
      },
      "execution_count": null,
      "outputs": []
    }
  ]
}